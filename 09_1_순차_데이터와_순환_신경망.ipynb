{
  "nbformat": 4,
  "nbformat_minor": 0,
  "metadata": {
    "colab": {
      "provenance": [],
      "authorship_tag": "ABX9TyNbkqnoRypOc3iGeA7JcX53",
      "include_colab_link": true
    },
    "kernelspec": {
      "name": "python3",
      "display_name": "Python 3"
    },
    "language_info": {
      "name": "python"
    }
  },
  "cells": [
    {
      "cell_type": "markdown",
      "metadata": {
        "id": "view-in-github",
        "colab_type": "text"
      },
      "source": [
        "<a href=\"https://colab.research.google.com/github/GRINTKIM/Self-Study-MachineLearing-DeepLearning/blob/master/09_1_%EC%88%9C%EC%B0%A8_%EB%8D%B0%EC%9D%B4%ED%84%B0%EC%99%80_%EC%88%9C%ED%99%98_%EC%8B%A0%EA%B2%BD%EB%A7%9D.ipynb\" target=\"_parent\"><img src=\"https://colab.research.google.com/assets/colab-badge.svg\" alt=\"Open In Colab\"/></a>"
      ]
    },
    {
      "cell_type": "markdown",
      "source": [
        "# 순차 데이터와 순환 신경망"
      ],
      "metadata": {
        "id": "uVTcyokh1LbB"
      }
    },
    {
      "cell_type": "markdown",
      "source": [
        "## 순차 데이터\n",
        "\n",
        "- **순차 데이터(sequential data)**는 텍스트나 **시계열 데이터(time series data)**와 같이 순서에 의미가 있는 데이터\n",
        "- 텍스트 데이터는 단어의 순서가 중요한 순차 데이터임\n",
        "- 텍스트 데이터는 순서를 유지하며 신경망에 주입해야 함\n",
        "- 순차 데이터를 다룰 때는 이전에 입력한 데이터를 기억하는 기능이 필요함\n",
        "  - 완전 연결 신경망이나 합성곱 신경망은 이런 기억 장치가 없음\n",
        "  - 하나의 샘플(또는 하나의 배치)를 사용하여 정방향 계산을 수행하고 나면 그 샘플은 버려지고 다음 샘플을 처리할 때 재사용하지 않음\n",
        "  - 이렇게 입력 데이터의 흐름이 앞으로만 전달되는 신경망을 **피드포워드 신경망(feedforward neural network, FFNN)**이라고 함"
      ],
      "metadata": {
        "id": "D41ntzF-3jy_"
      }
    },
    {
      "cell_type": "markdown",
      "source": [
        "## 순환 신경망\n",
        "\n",
        "- **순환 신경망(recurrent neural network)**는 일반적인 완전 연결 신경망과 거의 비슷함\n",
        "- 완전 연결 신경망에 이전 데이터의 처리 흐름을 순환하는 고리 하나가 추가됨\n",
        "- 뉴런의 출력이 다시 자기 자신으로 전달됨\n",
        "- 즉, 어떤 샘플을 처리할 때 바로 이전에 사용했던 데이터를 재사용하는 것임\n",
        "- \"이전 샘플에 대한 기억을 가지고 있다.\"\n",
        "- 샘플을 처리하는 한 단계를 **타임스텝(timestep)**이라고 함\n",
        "- 순환 신경망은 이전 타임스텝의 샘플을 기억하지만 타임스텝이 오래될수록 순환되는 정보는 희미해짐\n",
        "- 순환 신경망에서 층을 **셀(cell)**이라고 부름\n",
        "- 한 셀에는 여러 개의 뉴런이 있지만 완전 연결 신경망과 달리 뉴런을 모두 표시하지 않고 하나의 셀로 층을 표현함\n",
        "- 셀의 출력을 **은닉 상태(hidden state)**라고 부름\n",
        "- 일반적으로 은닉층의 활성화 함수로는 하이퍼볼릭 탄젠드(hyperbolic tangent) 함수인 tanh가 많이 사용됨\n",
        "- 순환 신경망에서도 뉴런은 입력과 가중치를 곱함\n",
        "   - 순환 신경망의 뉴런은 가중치가 하나 더 있음\n",
        "   - 이전 타임스텝의 은닉 상태에 곱해지는 가중치\n",
        "   - 모든 타임스텝에서 사용되는 가중치는 $w_h$하나임\n",
        "   - 가중치 $w_h$는 타임스텝에 따라 변화되는 뉴런의 출력을 학습\n",
        "   - 이런 능력이 순차 데이터를 다루는 데 필요"
      ],
      "metadata": {
        "id": "XT_cOdN75km3"
      }
    },
    {
      "cell_type": "markdown",
      "source": [
        "## 셀의 가중치와 입출력\n",
        "\n"
      ],
      "metadata": {
        "id": "kPzQ6c4N-F2Y"
      }
    }
  ]
}