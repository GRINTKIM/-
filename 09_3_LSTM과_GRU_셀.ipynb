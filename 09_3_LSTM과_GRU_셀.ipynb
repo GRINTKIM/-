{
  "nbformat": 4,
  "nbformat_minor": 0,
  "metadata": {
    "colab": {
      "provenance": [],
      "gpuType": "T4",
      "authorship_tag": "ABX9TyP7qdVxYqt6O+HU58hjW+QG",
      "include_colab_link": true
    },
    "kernelspec": {
      "name": "python3",
      "display_name": "Python 3"
    },
    "language_info": {
      "name": "python"
    },
    "accelerator": "GPU"
  },
  "cells": [
    {
      "cell_type": "markdown",
      "metadata": {
        "id": "view-in-github",
        "colab_type": "text"
      },
      "source": [
        "<a href=\"https://colab.research.google.com/github/GRINTKIM/Self-Study-MachineLearing-DeepLearning/blob/master/09_3_LSTM%EA%B3%BC_GRU_%EC%85%80.ipynb\" target=\"_parent\"><img src=\"https://colab.research.google.com/assets/colab-badge.svg\" alt=\"Open In Colab\"/></a>"
      ]
    },
    {
      "cell_type": "markdown",
      "source": [
        "# LSTM과 GRU 셀\n",
        "\n",
        "- 기본 순환층은 긴 시퀀스를 학습하기 어려움\n",
        "- 시퀀스가 길수록 순환되는 은닉 상태에 담긴 정보가 점차 희석되기 때문\n",
        "- 따라서 멀리 떨어져 있는 단어 정보를 인식하는 데 어려울 수 있음"
      ],
      "metadata": {
        "id": "6IaKG0wZnfS2"
      }
    },
    {
      "cell_type": "markdown",
      "source": [
        "## LSTM 구조\n",
        "\n",
        "- **LSTM** -> Long Short Term Memory\n",
        "- 말 그대로 단기 기억을 오래 기억하기 위해 고안됨\n",
        "- LSTM에는 입력과 가중치를 곱하고 절편을 더해 활성화 함수를 통과시키는 구조를 여러개 가지고 있음\n",
        "- 이런 계산 결과는 다음 타임스텝에 재사용됨\n",
        "\n",
        "<br>\n",
        "\n",
        "- 은닉 상태를 만드는 방법\n",
        "  - 입력과 이전 타임스텝의 은닉 상태를 가중치에 곱한 후 활성화 함수를 통과시켜 다음 은닉 상태를 만듦\n",
        "  - 기본 순환층과 달리 **시그모이드 활성화 함수** 사용\n",
        "  - tanh 활성화 함수를 통과한 어떤 값과 곱해져서 은닉 상태를 만듦\n",
        "- LSTM에는 순환되는 상태가 2개\n",
        "  - 은닉 상태\n",
        "  - **셀 상태(cell state)**\n",
        "    - 다음 층으로 전달되지 않고 LSTM 셀에서 순환만 되는 값\n",
        "\n",
        "- 셀 상태를 계산하는 과정\n",
        "  - 입력과 은닉 상태를 또 다른 가중치 $w_f$에 곱하여 새로운 셀 상태를 만듦\n",
        "  - 이 셀 상태가 tanh 함수를 통과하여 새로운 은닉 상태를 만드는 데 기여\n",
        "  - 여기에 2개의 작은 셀이 더 추가되어 셀 상태를 만드는 데 기여\n",
        "\n",
        "<br>\n",
        "\n",
        "- 삭제 게이트는 셀 상태에 있는 정보를 제거하는 역할\n",
        "- 입력 게이트는 새로운 정보를 셀 상태에 추가\n",
        "- 출력 게이트는 이 셀 상태가 다음 은닉 상태로 출력\n"
      ],
      "metadata": {
        "id": "Lwis9_XIxsyz"
      }
    },
    {
      "cell_type": "markdown",
      "source": [
        "## LSTM 신경망 훈련하기"
      ],
      "metadata": {
        "id": "UGWPsgLk1tW9"
      }
    },
    {
      "cell_type": "code",
      "source": [
        "from tensorflow.keras.datasets import imdb\n",
        "from sklearn.model_selection import train_test_split\n",
        "\n",
        "(train_input, train_target), (test_input, test_target) = imdb.load_data(\n",
        "    num_words=500)\n",
        "train_input, val_input, train_target, val_target = train_test_split(train_input,\n",
        "                                                                    train_target,\n",
        "                                                                    test_size=0.2,\n",
        "                                                                    random_state=42)"
      ],
      "metadata": {
        "colab": {
          "base_uri": "https://localhost:8080/"
        },
        "id": "J_1ioqyo1wkM",
        "outputId": "47882f69-1dc0-4fa1-f808-62e5dac692b5"
      },
      "execution_count": null,
      "outputs": [
        {
          "output_type": "stream",
          "name": "stdout",
          "text": [
            "Downloading data from https://storage.googleapis.com/tensorflow/tf-keras-datasets/imdb.npz\n",
            "17464789/17464789 [==============================] - 2s 0us/step\n"
          ]
        }
      ]
    },
    {
      "cell_type": "code",
      "source": [
        "from tensorflow.keras.preprocessing.sequence import pad_sequences\n",
        "\n",
        "train_seq = pad_sequences(train_input, maxlen=100)\n",
        "val_seq = pad_sequences(val_input, maxlen=100)"
      ],
      "metadata": {
        "id": "4DcLTXNB2fmJ"
      },
      "execution_count": null,
      "outputs": []
    },
    {
      "cell_type": "code",
      "source": [
        "from tensorflow import keras\n",
        "\n",
        "model = keras.Sequential()\n",
        "model.add(keras.layers.Embedding(500, 16, input_length=100))\n",
        "model.add(keras.layers.LSTM(8))\n",
        "model.add(keras.layers.Dense(1, activation='sigmoid'))\n",
        "\n",
        "model.summary()"
      ],
      "metadata": {
        "colab": {
          "base_uri": "https://localhost:8080/"
        },
        "id": "-5QZgjI92_eT",
        "outputId": "364f663c-7105-4f04-fd10-6da3d32301ce"
      },
      "execution_count": null,
      "outputs": [
        {
          "output_type": "stream",
          "name": "stdout",
          "text": [
            "Model: \"sequential\"\n",
            "_________________________________________________________________\n",
            " Layer (type)                Output Shape              Param #   \n",
            "=================================================================\n",
            " embedding (Embedding)       (None, 100, 16)           8000      \n",
            "                                                                 \n",
            " lstm (LSTM)                 (None, 8)                 800       \n",
            "                                                                 \n",
            " dense (Dense)               (None, 1)                 9         \n",
            "                                                                 \n",
            "=================================================================\n",
            "Total params: 8809 (34.41 KB)\n",
            "Trainable params: 8809 (34.41 KB)\n",
            "Non-trainable params: 0 (0.00 Byte)\n",
            "_________________________________________________________________\n"
          ]
        }
      ]
    },
    {
      "cell_type": "code",
      "source": [
        "rmsprop = keras.optimizers.RMSprop(learning_rate=1e-4)\n",
        "\n",
        "model.compile(optimizer=rmsprop, loss='binary_crossentropy', metrics=['accuracy'])\n",
        "\n",
        "checkpoint_cb = keras.callbacks.ModelCheckpoint('best-lstm-model.h5', save_best_only=True)\n",
        "early_stopping_cb = keras.callbacks.EarlyStopping(patience=3, restore_best_weights=True)\n",
        "\n",
        "history = model.fit(train_seq, train_target, epochs=100, batch_size=64,\n",
        "                    validation_data=(val_seq, val_target),\n",
        "                    callbacks=[checkpoint_cb, early_stopping_cb])"
      ],
      "metadata": {
        "colab": {
          "base_uri": "https://localhost:8080/"
        },
        "id": "zoWJsqXy3V7G",
        "outputId": "d5050a71-723e-4c1a-dfb2-9e97664c7349"
      },
      "execution_count": null,
      "outputs": [
        {
          "output_type": "stream",
          "name": "stdout",
          "text": [
            "Epoch 1/100\n",
            "313/313 [==============================] - 15s 22ms/step - loss: 0.6924 - accuracy: 0.5455 - val_loss: 0.6918 - val_accuracy: 0.5608\n",
            "Epoch 2/100\n",
            " 15/313 [>.............................] - ETA: 2s - loss: 0.6916 - accuracy: 0.5740"
          ]
        },
        {
          "output_type": "stream",
          "name": "stderr",
          "text": [
            "/usr/local/lib/python3.10/dist-packages/keras/src/engine/training.py:3079: UserWarning: You are saving your model as an HDF5 file via `model.save()`. This file format is considered legacy. We recommend using instead the native Keras format, e.g. `model.save('my_model.keras')`.\n",
            "  saving_api.save_model(\n"
          ]
        },
        {
          "output_type": "stream",
          "name": "stdout",
          "text": [
            "313/313 [==============================] - 5s 15ms/step - loss: 0.6899 - accuracy: 0.6068 - val_loss: 0.6875 - val_accuracy: 0.6452\n",
            "Epoch 3/100\n",
            "313/313 [==============================] - 3s 9ms/step - loss: 0.6786 - accuracy: 0.6585 - val_loss: 0.6595 - val_accuracy: 0.6808\n",
            "Epoch 4/100\n",
            "313/313 [==============================] - 3s 8ms/step - loss: 0.6278 - accuracy: 0.6915 - val_loss: 0.6085 - val_accuracy: 0.6920\n",
            "Epoch 5/100\n",
            "313/313 [==============================] - 3s 8ms/step - loss: 0.5936 - accuracy: 0.7123 - val_loss: 0.5856 - val_accuracy: 0.7122\n",
            "Epoch 6/100\n",
            "313/313 [==============================] - 3s 10ms/step - loss: 0.5709 - accuracy: 0.7287 - val_loss: 0.5657 - val_accuracy: 0.7270\n",
            "Epoch 7/100\n",
            "313/313 [==============================] - 3s 11ms/step - loss: 0.5500 - accuracy: 0.7438 - val_loss: 0.5466 - val_accuracy: 0.7430\n",
            "Epoch 8/100\n",
            "313/313 [==============================] - 3s 8ms/step - loss: 0.5314 - accuracy: 0.7582 - val_loss: 0.5306 - val_accuracy: 0.7552\n",
            "Epoch 9/100\n",
            "313/313 [==============================] - 2s 8ms/step - loss: 0.5145 - accuracy: 0.7683 - val_loss: 0.5152 - val_accuracy: 0.7602\n",
            "Epoch 10/100\n",
            "313/313 [==============================] - 3s 8ms/step - loss: 0.4994 - accuracy: 0.7768 - val_loss: 0.5031 - val_accuracy: 0.7696\n",
            "Epoch 11/100\n",
            "313/313 [==============================] - 3s 11ms/step - loss: 0.4862 - accuracy: 0.7829 - val_loss: 0.4940 - val_accuracy: 0.7718\n",
            "Epoch 12/100\n",
            "313/313 [==============================] - 3s 10ms/step - loss: 0.4745 - accuracy: 0.7905 - val_loss: 0.4827 - val_accuracy: 0.7752\n",
            "Epoch 13/100\n",
            "313/313 [==============================] - 2s 8ms/step - loss: 0.4641 - accuracy: 0.7947 - val_loss: 0.4752 - val_accuracy: 0.7758\n",
            "Epoch 14/100\n",
            "313/313 [==============================] - 2s 8ms/step - loss: 0.4552 - accuracy: 0.7990 - val_loss: 0.4655 - val_accuracy: 0.7816\n",
            "Epoch 15/100\n",
            "313/313 [==============================] - 3s 8ms/step - loss: 0.4473 - accuracy: 0.8030 - val_loss: 0.4601 - val_accuracy: 0.7840\n",
            "Epoch 16/100\n",
            "313/313 [==============================] - 3s 10ms/step - loss: 0.4406 - accuracy: 0.8043 - val_loss: 0.4555 - val_accuracy: 0.7898\n",
            "Epoch 17/100\n",
            "313/313 [==============================] - 3s 10ms/step - loss: 0.4355 - accuracy: 0.8079 - val_loss: 0.4509 - val_accuracy: 0.7926\n",
            "Epoch 18/100\n",
            "313/313 [==============================] - 4s 13ms/step - loss: 0.4310 - accuracy: 0.8085 - val_loss: 0.4489 - val_accuracy: 0.7944\n",
            "Epoch 19/100\n",
            "313/313 [==============================] - 3s 8ms/step - loss: 0.4269 - accuracy: 0.8097 - val_loss: 0.4431 - val_accuracy: 0.7964\n",
            "Epoch 20/100\n",
            "313/313 [==============================] - 2s 8ms/step - loss: 0.4243 - accuracy: 0.8102 - val_loss: 0.4418 - val_accuracy: 0.7962\n",
            "Epoch 21/100\n",
            "313/313 [==============================] - 4s 13ms/step - loss: 0.4217 - accuracy: 0.8112 - val_loss: 0.4405 - val_accuracy: 0.7976\n",
            "Epoch 22/100\n",
            "313/313 [==============================] - 3s 8ms/step - loss: 0.4196 - accuracy: 0.8137 - val_loss: 0.4389 - val_accuracy: 0.7986\n",
            "Epoch 23/100\n",
            "313/313 [==============================] - 3s 8ms/step - loss: 0.4179 - accuracy: 0.8112 - val_loss: 0.4367 - val_accuracy: 0.7976\n",
            "Epoch 24/100\n",
            "313/313 [==============================] - 3s 8ms/step - loss: 0.4161 - accuracy: 0.8132 - val_loss: 0.4410 - val_accuracy: 0.7964\n",
            "Epoch 25/100\n",
            "313/313 [==============================] - 3s 9ms/step - loss: 0.4148 - accuracy: 0.8142 - val_loss: 0.4376 - val_accuracy: 0.7974\n",
            "Epoch 26/100\n",
            "313/313 [==============================] - 3s 11ms/step - loss: 0.4136 - accuracy: 0.8132 - val_loss: 0.4340 - val_accuracy: 0.7946\n",
            "Epoch 27/100\n",
            "313/313 [==============================] - 3s 8ms/step - loss: 0.4125 - accuracy: 0.8141 - val_loss: 0.4343 - val_accuracy: 0.8006\n",
            "Epoch 28/100\n",
            "313/313 [==============================] - 2s 8ms/step - loss: 0.4115 - accuracy: 0.8152 - val_loss: 0.4366 - val_accuracy: 0.8014\n",
            "Epoch 29/100\n",
            "313/313 [==============================] - 2s 8ms/step - loss: 0.4104 - accuracy: 0.8148 - val_loss: 0.4330 - val_accuracy: 0.8004\n",
            "Epoch 30/100\n",
            "313/313 [==============================] - 3s 9ms/step - loss: 0.4094 - accuracy: 0.8156 - val_loss: 0.4321 - val_accuracy: 0.7972\n",
            "Epoch 31/100\n",
            "313/313 [==============================] - 3s 11ms/step - loss: 0.4088 - accuracy: 0.8148 - val_loss: 0.4316 - val_accuracy: 0.7980\n",
            "Epoch 32/100\n",
            "313/313 [==============================] - 3s 8ms/step - loss: 0.4075 - accuracy: 0.8162 - val_loss: 0.4347 - val_accuracy: 0.7962\n",
            "Epoch 33/100\n",
            "313/313 [==============================] - 2s 8ms/step - loss: 0.4071 - accuracy: 0.8159 - val_loss: 0.4308 - val_accuracy: 0.7992\n",
            "Epoch 34/100\n",
            "313/313 [==============================] - 2s 8ms/step - loss: 0.4061 - accuracy: 0.8163 - val_loss: 0.4316 - val_accuracy: 0.7986\n",
            "Epoch 35/100\n",
            "313/313 [==============================] - 3s 8ms/step - loss: 0.4056 - accuracy: 0.8153 - val_loss: 0.4311 - val_accuracy: 0.8012\n",
            "Epoch 36/100\n",
            "313/313 [==============================] - 4s 11ms/step - loss: 0.4046 - accuracy: 0.8169 - val_loss: 0.4310 - val_accuracy: 0.7972\n"
          ]
        }
      ]
    },
    {
      "cell_type": "code",
      "source": [
        "import matplotlib.pyplot as plt\n",
        "\n",
        "plt.plot(history.history['loss'])\n",
        "plt.plot(history.history['val_loss'])\n",
        "plt.xlabel('epoch')\n",
        "plt.ylabel('loss')\n",
        "plt.legend(['train', 'val'])\n",
        "plt.show()"
      ],
      "metadata": {
        "colab": {
          "base_uri": "https://localhost:8080/",
          "height": 449
        },
        "id": "hyRHstcE4hzS",
        "outputId": "54200567-0aba-43f9-ef58-5b19a3389285"
      },
      "execution_count": null,
      "outputs": [
        {
          "output_type": "display_data",
          "data": {
            "text/plain": [
              "<Figure size 640x480 with 1 Axes>"
            ],
            "image/png": "[encoded data removed]"
          },
          "metadata": {}
        }
      ]
    },
    {
      "cell_type": "markdown",
      "source": [
        "## 순환층에 드롭아웃 적용하기"
      ],
      "metadata": {
        "id": "X_uap7YI5Xl0"
      }
    },
    {
      "cell_type": "code",
      "source": [
        "model2 = keras.Sequential()\n",
        "model2.add(keras.layers.Embedding(500, 16, input_length=100))\n",
        "model2.add(keras.layers.LSTM(8, dropout=0.3))\n",
        "model2.add(keras.layers.Dense(1, activation='sigmoid'))"
      ],
      "metadata": {
        "id": "a6mPfbbi5efw"
      },
      "execution_count": null,
      "outputs": []
    },
    {
      "cell_type": "code",
      "source": [
        "model2.summary()"
      ],
      "metadata": {
        "colab": {
          "base_uri": "https://localhost:8080/"
        },
        "id": "9o1_4rhJ7MkV",
        "outputId": "5c1917dc-e0fb-41d8-dc47-fc15a191c823"
      },
      "execution_count": null,
      "outputs": [
        {
          "output_type": "stream",
          "name": "stdout",
          "text": [
            "Model: \"sequential_1\"\n",
            "_________________________________________________________________\n",
            " Layer (type)                Output Shape              Param #   \n",
            "=================================================================\n",
            " embedding_1 (Embedding)     (None, 100, 16)           8000      \n",
            "                                                                 \n",
            " lstm_1 (LSTM)               (None, 8)                 800       \n",
            "                                                                 \n",
            " dense_1 (Dense)             (None, 1)                 9         \n",
            "                                                                 \n",
            "=================================================================\n",
            "Total params: 8809 (34.41 KB)\n",
            "Trainable params: 8809 (34.41 KB)\n",
            "Non-trainable params: 0 (0.00 Byte)\n",
            "_________________________________________________________________\n"
          ]
        }
      ]
    },
    {
      "cell_type": "code",
      "source": [
        "rmsprop = keras.optimizers.RMSprop(learning_rate=1e-4)\n",
        "\n",
        "model2.compile(optimizer=rmsprop, loss='binary_crossentropy', metrics=['accuracy'])\n",
        "\n",
        "checkpoint_cb = keras.callbacks.ModelCheckpoint('best-dropout-model.h5', save_best_only=True)\n",
        "early_stopping_cb = keras.callbacks.EarlyStopping(patience=3, restore_best_weights=True)\n",
        "\n",
        "history = model2.fit(train_seq, train_target, epochs=100, batch_size=64,\n",
        "                    validation_data=(val_seq, val_target),\n",
        "                    callbacks=[checkpoint_cb, early_stopping_cb])"
      ],
      "metadata": {
        "colab": {
          "base_uri": "https://localhost:8080/"
        },
        "id": "9VoVaxeP7PQ2",
        "outputId": "18ade52d-30ee-4e32-fb02-4310432c9c23"
      },
      "execution_count": null,
      "outputs": [
        {
          "output_type": "stream",
          "name": "stdout",
          "text": [
            "Epoch 1/100\n",
            "313/313 [==============================] - 10s 21ms/step - loss: 0.6928 - accuracy: 0.5290 - val_loss: 0.6927 - val_accuracy: 0.5396\n",
            "Epoch 2/100\n",
            " 12/313 [>.............................] - ETA: 3s - loss: 0.6927 - accuracy: 0.5286"
          ]
        },
        {
          "output_type": "stream",
          "name": "stderr",
          "text": [
            "/usr/local/lib/python3.10/dist-packages/keras/src/engine/training.py:3079: UserWarning: You are saving your model as an HDF5 file via `model.save()`. This file format is considered legacy. We recommend using instead the native Keras format, e.g. `model.save('my_model.keras')`.\n",
            "  saving_api.save_model(\n"
          ]
        },
        {
          "output_type": "stream",
          "name": "stdout",
          "text": [
            "313/313 [==============================] - 3s 9ms/step - loss: 0.6921 - accuracy: 0.5579 - val_loss: 0.6918 - val_accuracy: 0.5558\n",
            "Epoch 3/100\n",
            "313/313 [==============================] - 3s 9ms/step - loss: 0.6905 - accuracy: 0.5864 - val_loss: 0.6896 - val_accuracy: 0.5930\n",
            "Epoch 4/100\n",
            "313/313 [==============================] - 3s 8ms/step - loss: 0.6864 - accuracy: 0.6146 - val_loss: 0.6823 - val_accuracy: 0.6592\n",
            "Epoch 5/100\n",
            "313/313 [==============================] - 4s 12ms/step - loss: 0.6673 - accuracy: 0.6816 - val_loss: 0.6435 - val_accuracy: 0.6980\n",
            "Epoch 6/100\n",
            "313/313 [==============================] - 3s 8ms/step - loss: 0.6250 - accuracy: 0.6938 - val_loss: 0.6140 - val_accuracy: 0.6950\n",
            "Epoch 7/100\n",
            "313/313 [==============================] - 3s 8ms/step - loss: 0.6040 - accuracy: 0.7073 - val_loss: 0.5946 - val_accuracy: 0.7154\n",
            "Epoch 8/100\n",
            "313/313 [==============================] - 3s 8ms/step - loss: 0.5847 - accuracy: 0.7246 - val_loss: 0.5742 - val_accuracy: 0.7312\n",
            "Epoch 9/100\n",
            "313/313 [==============================] - 5s 17ms/step - loss: 0.5663 - accuracy: 0.7374 - val_loss: 0.5556 - val_accuracy: 0.7452\n",
            "Epoch 10/100\n",
            "313/313 [==============================] - 3s 10ms/step - loss: 0.5453 - accuracy: 0.7534 - val_loss: 0.5359 - val_accuracy: 0.7608\n",
            "Epoch 11/100\n",
            "313/313 [==============================] - 2s 8ms/step - loss: 0.5278 - accuracy: 0.7641 - val_loss: 0.5189 - val_accuracy: 0.7694\n",
            "Epoch 12/100\n",
            "313/313 [==============================] - 3s 8ms/step - loss: 0.5103 - accuracy: 0.7719 - val_loss: 0.5045 - val_accuracy: 0.7722\n",
            "Epoch 13/100\n",
            "313/313 [==============================] - 5s 15ms/step - loss: 0.4959 - accuracy: 0.7775 - val_loss: 0.4915 - val_accuracy: 0.7772\n",
            "Epoch 14/100\n",
            "313/313 [==============================] - 5s 16ms/step - loss: 0.4879 - accuracy: 0.7793 - val_loss: 0.4821 - val_accuracy: 0.7830\n",
            "Epoch 15/100\n",
            "313/313 [==============================] - 3s 9ms/step - loss: 0.4764 - accuracy: 0.7879 - val_loss: 0.4756 - val_accuracy: 0.7858\n",
            "Epoch 16/100\n",
            "313/313 [==============================] - 3s 8ms/step - loss: 0.4707 - accuracy: 0.7897 - val_loss: 0.4730 - val_accuracy: 0.7872\n",
            "Epoch 17/100\n",
            "313/313 [==============================] - 3s 8ms/step - loss: 0.4658 - accuracy: 0.7911 - val_loss: 0.4680 - val_accuracy: 0.7866\n",
            "Epoch 18/100\n",
            "313/313 [==============================] - 6s 19ms/step - loss: 0.4606 - accuracy: 0.7912 - val_loss: 0.4625 - val_accuracy: 0.7886\n",
            "Epoch 19/100\n",
            "313/313 [==============================] - 3s 11ms/step - loss: 0.4548 - accuracy: 0.7944 - val_loss: 0.4586 - val_accuracy: 0.7920\n",
            "Epoch 20/100\n",
            "313/313 [==============================] - 3s 11ms/step - loss: 0.4505 - accuracy: 0.7971 - val_loss: 0.4601 - val_accuracy: 0.7910\n",
            "Epoch 21/100\n",
            "313/313 [==============================] - 4s 12ms/step - loss: 0.4485 - accuracy: 0.7965 - val_loss: 0.4534 - val_accuracy: 0.7900\n",
            "Epoch 22/100\n",
            "313/313 [==============================] - 3s 10ms/step - loss: 0.4444 - accuracy: 0.8005 - val_loss: 0.4523 - val_accuracy: 0.7944\n",
            "Epoch 23/100\n",
            "313/313 [==============================] - 3s 8ms/step - loss: 0.4426 - accuracy: 0.7986 - val_loss: 0.4476 - val_accuracy: 0.7928\n",
            "Epoch 24/100\n",
            "313/313 [==============================] - 3s 11ms/step - loss: 0.4387 - accuracy: 0.8005 - val_loss: 0.4461 - val_accuracy: 0.7956\n",
            "Epoch 25/100\n",
            "313/313 [==============================] - 3s 9ms/step - loss: 0.4361 - accuracy: 0.8015 - val_loss: 0.4444 - val_accuracy: 0.7956\n",
            "Epoch 26/100\n",
            "313/313 [==============================] - 4s 13ms/step - loss: 0.4336 - accuracy: 0.8042 - val_loss: 0.4433 - val_accuracy: 0.7964\n",
            "Epoch 27/100\n",
            "313/313 [==============================] - 3s 8ms/step - loss: 0.4325 - accuracy: 0.8055 - val_loss: 0.4425 - val_accuracy: 0.7944\n",
            "Epoch 28/100\n",
            "313/313 [==============================] - 3s 9ms/step - loss: 0.4316 - accuracy: 0.8033 - val_loss: 0.4407 - val_accuracy: 0.7958\n",
            "Epoch 29/100\n",
            "313/313 [==============================] - 3s 9ms/step - loss: 0.4285 - accuracy: 0.8030 - val_loss: 0.4422 - val_accuracy: 0.7918\n",
            "Epoch 30/100\n",
            "313/313 [==============================] - 3s 11ms/step - loss: 0.4268 - accuracy: 0.8059 - val_loss: 0.4395 - val_accuracy: 0.7952\n",
            "Epoch 31/100\n",
            "313/313 [==============================] - 3s 10ms/step - loss: 0.4260 - accuracy: 0.8069 - val_loss: 0.4379 - val_accuracy: 0.8002\n",
            "Epoch 32/100\n",
            "313/313 [==============================] - 3s 8ms/step - loss: 0.4231 - accuracy: 0.8084 - val_loss: 0.4365 - val_accuracy: 0.7950\n",
            "Epoch 33/100\n",
            "313/313 [==============================] - 3s 8ms/step - loss: 0.4229 - accuracy: 0.8082 - val_loss: 0.4407 - val_accuracy: 0.8008\n",
            "Epoch 34/100\n",
            "313/313 [==============================] - 3s 8ms/step - loss: 0.4214 - accuracy: 0.8084 - val_loss: 0.4351 - val_accuracy: 0.7966\n",
            "Epoch 35/100\n",
            "313/313 [==============================] - 3s 11ms/step - loss: 0.4206 - accuracy: 0.8091 - val_loss: 0.4353 - val_accuracy: 0.7958\n",
            "Epoch 36/100\n",
            "313/313 [==============================] - 3s 10ms/step - loss: 0.4181 - accuracy: 0.8090 - val_loss: 0.4347 - val_accuracy: 0.8018\n",
            "Epoch 37/100\n",
            "313/313 [==============================] - 2s 8ms/step - loss: 0.4192 - accuracy: 0.8088 - val_loss: 0.4373 - val_accuracy: 0.8016\n",
            "Epoch 38/100\n",
            "313/313 [==============================] - 2s 8ms/step - loss: 0.4172 - accuracy: 0.8110 - val_loss: 0.4346 - val_accuracy: 0.8014\n",
            "Epoch 39/100\n",
            "313/313 [==============================] - 3s 8ms/step - loss: 0.4189 - accuracy: 0.8092 - val_loss: 0.4336 - val_accuracy: 0.7984\n",
            "Epoch 40/100\n",
            "313/313 [==============================] - 4s 11ms/step - loss: 0.4159 - accuracy: 0.8092 - val_loss: 0.4319 - val_accuracy: 0.7996\n",
            "Epoch 41/100\n",
            "313/313 [==============================] - 3s 9ms/step - loss: 0.4160 - accuracy: 0.8113 - val_loss: 0.4321 - val_accuracy: 0.8010\n",
            "Epoch 42/100\n",
            "313/313 [==============================] - 2s 8ms/step - loss: 0.4159 - accuracy: 0.8094 - val_loss: 0.4323 - val_accuracy: 0.8024\n",
            "Epoch 43/100\n",
            "313/313 [==============================] - 2s 8ms/step - loss: 0.4143 - accuracy: 0.8108 - val_loss: 0.4316 - val_accuracy: 0.7960\n",
            "Epoch 44/100\n",
            "313/313 [==============================] - 3s 8ms/step - loss: 0.4124 - accuracy: 0.8117 - val_loss: 0.4318 - val_accuracy: 0.8028\n",
            "Epoch 45/100\n",
            "313/313 [==============================] - 4s 11ms/step - loss: 0.4146 - accuracy: 0.8105 - val_loss: 0.4318 - val_accuracy: 0.8048\n",
            "Epoch 46/100\n",
            "313/313 [==============================] - 3s 8ms/step - loss: 0.4137 - accuracy: 0.8086 - val_loss: 0.4307 - val_accuracy: 0.7984\n",
            "Epoch 47/100\n",
            "313/313 [==============================] - 3s 8ms/step - loss: 0.4108 - accuracy: 0.8137 - val_loss: 0.4322 - val_accuracy: 0.8056\n",
            "Epoch 48/100\n",
            "313/313 [==============================] - 3s 8ms/step - loss: 0.4108 - accuracy: 0.8114 - val_loss: 0.4295 - val_accuracy: 0.8034\n",
            "Epoch 49/100\n",
            "313/313 [==============================] - 3s 8ms/step - loss: 0.4108 - accuracy: 0.8119 - val_loss: 0.4292 - val_accuracy: 0.8034\n",
            "Epoch 50/100\n",
            "313/313 [==============================] - 4s 13ms/step - loss: 0.4098 - accuracy: 0.8123 - val_loss: 0.4304 - val_accuracy: 0.8046\n",
            "Epoch 51/100\n",
            "313/313 [==============================] - 3s 9ms/step - loss: 0.4092 - accuracy: 0.8138 - val_loss: 0.4309 - val_accuracy: 0.7982\n",
            "Epoch 52/100\n",
            "313/313 [==============================] - 4s 12ms/step - loss: 0.4087 - accuracy: 0.8138 - val_loss: 0.4298 - val_accuracy: 0.7988\n"
          ]
        }
      ]
    },
    {
      "cell_type": "code",
      "source": [
        "plt.plot(history.history['loss'])\n",
        "plt.plot(history.history['val_loss'])\n",
        "plt.xlabel('epoch')\n",
        "plt.ylabel('loss')\n",
        "plt.legend(['train', 'val'])\n",
        "plt.show()"
      ],
      "metadata": {
        "colab": {
          "base_uri": "https://localhost:8080/",
          "height": 449
        },
        "id": "YBHbE-747eE0",
        "outputId": "fe6f223b-e4a7-461d-86c9-bcd7fbe6e303"
      },
      "execution_count": null,
      "outputs": [
        {
          "output_type": "display_data",
          "data": {
            "text/plain": [
              "<Figure size 640x480 with 1 Axes>"
            ],
            "image/png": "[encoded data removed]"
          },
          "metadata": {}
        }
      ]
    },
    {
      "cell_type": "markdown",
      "source": [
        "## 2개의 층을 연결하기"
      ],
      "metadata": {
        "id": "ripl_yd27tER"
      }
    },
    {
      "cell_type": "code",
      "source": [
        "model3 = keras.Sequential()\n",
        "model3.add(keras.layers.Embedding(500, 16, input_length=100))\n",
        "model3.add(keras.layers.LSTM(8, dropout=0.3, return_sequences=True))\n",
        "model3.add(keras.layers.LSTM(8, dropout=0.3))\n",
        "model3.add(keras.layers.Dense(1, activation='sigmoid'))\n",
        "\n",
        "model3.summary()"
      ],
      "metadata": {
        "colab": {
          "base_uri": "https://localhost:8080/"
        },
        "id": "3sQPNG7b7wTs",
        "outputId": "f2791ac6-59f1-431a-9ec1-62c7a1507e7d"
      },
      "execution_count": null,
      "outputs": [
        {
          "output_type": "stream",
          "name": "stdout",
          "text": [
            "Model: \"sequential_2\"\n",
            "_________________________________________________________________\n",
            " Layer (type)                Output Shape              Param #   \n",
            "=================================================================\n",
            " embedding_2 (Embedding)     (None, 100, 16)           8000      \n",
            "                                                                 \n",
            " lstm_2 (LSTM)               (None, 100, 8)            800       \n",
            "                                                                 \n",
            " lstm_3 (LSTM)               (None, 8)                 544       \n",
            "                                                                 \n",
            " dense_2 (Dense)             (None, 1)                 9         \n",
            "                                                                 \n",
            "=================================================================\n",
            "Total params: 9353 (36.54 KB)\n",
            "Trainable params: 9353 (36.54 KB)\n",
            "Non-trainable params: 0 (0.00 Byte)\n",
            "_________________________________________________________________\n"
          ]
        }
      ]
    },
    {
      "cell_type": "code",
      "source": [
        "rmsprop = keras.optimizers.RMSprop(learning_rate=1e-4)\n",
        "\n",
        "model3.compile(optimizer=rmsprop, loss='binary_crossentropy', metrics=['accuracy'])\n",
        "\n",
        "checkpoint_cb = keras.callbacks.ModelCheckpoint('best-2rnn-model.h5', save_best_only=True)\n",
        "early_stopping_cb = keras.callbacks.EarlyStopping(patience=3, restore_best_weights=True)\n",
        "\n",
        "history = model3.fit(train_seq, train_target, epochs=100, batch_size=64,\n",
        "                    validation_data=(val_seq, val_target),\n",
        "                    callbacks=[checkpoint_cb, early_stopping_cb])"
      ],
      "metadata": {
        "colab": {
          "base_uri": "https://localhost:8080/"
        },
        "id": "muSaFzUQ8WUg",
        "outputId": "b9a27199-9b79-41ed-c98a-4cddf8aa94de"
      },
      "execution_count": null,
      "outputs": [
        {
          "output_type": "stream",
          "name": "stdout",
          "text": [
            "Epoch 1/100\n",
            "313/313 [==============================] - 12s 21ms/step - loss: 0.6928 - accuracy: 0.5224 - val_loss: 0.6926 - val_accuracy: 0.4972\n",
            "Epoch 2/100\n",
            " 11/313 [>.............................] - ETA: 3s - loss: 0.6921 - accuracy: 0.5298"
          ]
        },
        {
          "output_type": "stream",
          "name": "stderr",
          "text": [
            "/usr/local/lib/python3.10/dist-packages/keras/src/engine/training.py:3079: UserWarning: You are saving your model as an HDF5 file via `model.save()`. This file format is considered legacy. We recommend using instead the native Keras format, e.g. `model.save('my_model.keras')`.\n",
            "  saving_api.save_model(\n"
          ]
        },
        {
          "output_type": "stream",
          "name": "stdout",
          "text": [
            "313/313 [==============================] - 6s 18ms/step - loss: 0.6917 - accuracy: 0.5457 - val_loss: 0.6909 - val_accuracy: 0.5700\n",
            "Epoch 3/100\n",
            "313/313 [==============================] - 4s 14ms/step - loss: 0.6873 - accuracy: 0.6167 - val_loss: 0.6820 - val_accuracy: 0.6208\n",
            "Epoch 4/100\n",
            "313/313 [==============================] - 4s 12ms/step - loss: 0.6579 - accuracy: 0.6593 - val_loss: 0.6211 - val_accuracy: 0.6938\n",
            "Epoch 5/100\n",
            "313/313 [==============================] - 4s 12ms/step - loss: 0.5957 - accuracy: 0.7013 - val_loss: 0.5718 - val_accuracy: 0.7202\n",
            "Epoch 6/100\n",
            "313/313 [==============================] - 5s 16ms/step - loss: 0.5598 - accuracy: 0.7226 - val_loss: 0.5406 - val_accuracy: 0.7324\n",
            "Epoch 7/100\n",
            "313/313 [==============================] - 4s 12ms/step - loss: 0.5345 - accuracy: 0.7403 - val_loss: 0.5181 - val_accuracy: 0.7480\n",
            "Epoch 8/100\n",
            "313/313 [==============================] - 4s 14ms/step - loss: 0.5125 - accuracy: 0.7563 - val_loss: 0.4986 - val_accuracy: 0.7636\n",
            "Epoch 9/100\n",
            "313/313 [==============================] - 5s 16ms/step - loss: 0.4953 - accuracy: 0.7684 - val_loss: 0.4852 - val_accuracy: 0.7756\n",
            "Epoch 10/100\n",
            "313/313 [==============================] - 4s 12ms/step - loss: 0.4847 - accuracy: 0.7768 - val_loss: 0.4756 - val_accuracy: 0.7804\n",
            "Epoch 11/100\n",
            "313/313 [==============================] - 4s 13ms/step - loss: 0.4744 - accuracy: 0.7807 - val_loss: 0.4701 - val_accuracy: 0.7812\n",
            "Epoch 12/100\n",
            "313/313 [==============================] - 5s 16ms/step - loss: 0.4666 - accuracy: 0.7875 - val_loss: 0.4655 - val_accuracy: 0.7826\n",
            "Epoch 13/100\n",
            "313/313 [==============================] - 5s 15ms/step - loss: 0.4601 - accuracy: 0.7897 - val_loss: 0.4590 - val_accuracy: 0.7858\n",
            "Epoch 14/100\n",
            "313/313 [==============================] - 5s 16ms/step - loss: 0.4564 - accuracy: 0.7904 - val_loss: 0.4550 - val_accuracy: 0.7880\n",
            "Epoch 15/100\n",
            "313/313 [==============================] - 7s 21ms/step - loss: 0.4512 - accuracy: 0.7942 - val_loss: 0.4526 - val_accuracy: 0.7930\n",
            "Epoch 16/100\n",
            "313/313 [==============================] - 4s 12ms/step - loss: 0.4495 - accuracy: 0.7957 - val_loss: 0.4496 - val_accuracy: 0.7936\n",
            "Epoch 17/100\n",
            "313/313 [==============================] - 5s 14ms/step - loss: 0.4459 - accuracy: 0.7946 - val_loss: 0.4486 - val_accuracy: 0.7934\n",
            "Epoch 18/100\n",
            "313/313 [==============================] - 7s 22ms/step - loss: 0.4421 - accuracy: 0.7993 - val_loss: 0.4468 - val_accuracy: 0.7942\n",
            "Epoch 19/100\n",
            "313/313 [==============================] - 5s 16ms/step - loss: 0.4418 - accuracy: 0.7995 - val_loss: 0.4465 - val_accuracy: 0.7904\n",
            "Epoch 20/100\n",
            "313/313 [==============================] - 6s 20ms/step - loss: 0.4385 - accuracy: 0.8009 - val_loss: 0.4432 - val_accuracy: 0.7926\n",
            "Epoch 21/100\n",
            "313/313 [==============================] - 5s 17ms/step - loss: 0.4386 - accuracy: 0.7990 - val_loss: 0.4432 - val_accuracy: 0.7942\n",
            "Epoch 22/100\n",
            "313/313 [==============================] - 4s 12ms/step - loss: 0.4365 - accuracy: 0.8001 - val_loss: 0.4410 - val_accuracy: 0.7956\n",
            "Epoch 23/100\n",
            "313/313 [==============================] - 4s 14ms/step - loss: 0.4363 - accuracy: 0.8012 - val_loss: 0.4430 - val_accuracy: 0.7984\n",
            "Epoch 24/100\n",
            "313/313 [==============================] - 4s 13ms/step - loss: 0.4322 - accuracy: 0.8056 - val_loss: 0.4390 - val_accuracy: 0.7972\n",
            "Epoch 25/100\n",
            "313/313 [==============================] - 4s 13ms/step - loss: 0.4320 - accuracy: 0.8030 - val_loss: 0.4435 - val_accuracy: 0.7964\n",
            "Epoch 26/100\n",
            "313/313 [==============================] - 4s 12ms/step - loss: 0.4298 - accuracy: 0.8018 - val_loss: 0.4370 - val_accuracy: 0.7994\n",
            "Epoch 27/100\n",
            "313/313 [==============================] - 5s 14ms/step - loss: 0.4287 - accuracy: 0.8048 - val_loss: 0.4419 - val_accuracy: 0.7974\n",
            "Epoch 28/100\n",
            "313/313 [==============================] - 4s 13ms/step - loss: 0.4287 - accuracy: 0.8036 - val_loss: 0.4357 - val_accuracy: 0.8002\n",
            "Epoch 29/100\n",
            "313/313 [==============================] - 4s 12ms/step - loss: 0.4267 - accuracy: 0.8022 - val_loss: 0.4347 - val_accuracy: 0.8022\n",
            "Epoch 30/100\n",
            "313/313 [==============================] - 5s 15ms/step - loss: 0.4270 - accuracy: 0.8056 - val_loss: 0.4349 - val_accuracy: 0.8006\n",
            "Epoch 31/100\n",
            "313/313 [==============================] - 4s 12ms/step - loss: 0.4256 - accuracy: 0.8065 - val_loss: 0.4400 - val_accuracy: 0.8008\n",
            "Epoch 32/100\n",
            "313/313 [==============================] - 4s 12ms/step - loss: 0.4241 - accuracy: 0.8070 - val_loss: 0.4344 - val_accuracy: 0.8000\n",
            "Epoch 33/100\n",
            "313/313 [==============================] - 4s 14ms/step - loss: 0.4229 - accuracy: 0.8066 - val_loss: 0.4325 - val_accuracy: 0.8018\n",
            "Epoch 34/100\n",
            "313/313 [==============================] - 4s 13ms/step - loss: 0.4238 - accuracy: 0.8073 - val_loss: 0.4328 - val_accuracy: 0.7976\n",
            "Epoch 35/100\n",
            "313/313 [==============================] - 4s 12ms/step - loss: 0.4203 - accuracy: 0.8080 - val_loss: 0.4355 - val_accuracy: 0.7952\n",
            "Epoch 36/100\n",
            "313/313 [==============================] - 4s 13ms/step - loss: 0.4193 - accuracy: 0.8096 - val_loss: 0.4361 - val_accuracy: 0.7990\n"
          ]
        }
      ]
    },
    {
      "cell_type": "code",
      "source": [
        "plt.plot(history.history['loss'])\n",
        "plt.plot(history.history['val_loss'])\n",
        "plt.xlabel('epoch')\n",
        "plt.ylabel('loss')\n",
        "plt.legend(['train', 'val'])\n",
        "plt.show()"
      ],
      "metadata": {
        "colab": {
          "base_uri": "https://localhost:8080/",
          "height": 449
        },
        "id": "U-CLLce48pNM",
        "outputId": "74e6d376-8340-499c-ed01-184b7b13c6fa"
      },
      "execution_count": null,
      "outputs": [
        {
          "output_type": "display_data",
          "data": {
            "text/plain": [
              "<Figure size 640x480 with 1 Axes>"
            ],
            "image/png": "[encoded data removed]"
          },
          "metadata": {}
        }
      ]
    },
    {
      "cell_type": "markdown",
      "source": [
        "## GRU 구조\n",
        "\n",
        "- **GRU** -> Gated Recurrent Unit\n",
        "- LSTM을 간소화한 버전으로 생각할 수 있음\n",
        "- LSTM처럼 셀 상태를 계산하지 않고 은닉 상태 하나만 포함하고 있음"
      ],
      "metadata": {
        "id": "p_huuvu88y7H"
      }
    },
    {
      "cell_type": "markdown",
      "source": [
        "## GRU 신경망 훈련하기"
      ],
      "metadata": {
        "id": "te3KGHvG86tq"
      }
    },
    {
      "cell_type": "code",
      "source": [
        "model4 = keras.Sequential()\n",
        "model4.add(keras.layers.Embedding(500, 16, input_length=100))\n",
        "model4.add(keras.layers.GRU(8))\n",
        "model4.add(keras.layers.Dense(1, activation='sigmoid'))\n",
        "\n",
        "model4.summary()"
      ],
      "metadata": {
        "colab": {
          "base_uri": "https://localhost:8080/"
        },
        "id": "VVSQ9R-8_rgW",
        "outputId": "f39667d1-b317-4b82-b0ce-b23657cf9f74"
      },
      "execution_count": null,
      "outputs": [
        {
          "output_type": "stream",
          "name": "stdout",
          "text": [
            "Model: \"sequential_3\"\n",
            "_________________________________________________________________\n",
            " Layer (type)                Output Shape              Param #   \n",
            "=================================================================\n",
            " embedding_3 (Embedding)     (None, 100, 16)           8000      \n",
            "                                                                 \n",
            " gru (GRU)                   (None, 8)                 624       \n",
            "                                                                 \n",
            " dense_3 (Dense)             (None, 1)                 9         \n",
            "                                                                 \n",
            "=================================================================\n",
            "Total params: 8633 (33.72 KB)\n",
            "Trainable params: 8633 (33.72 KB)\n",
            "Non-trainable params: 0 (0.00 Byte)\n",
            "_________________________________________________________________\n"
          ]
        }
      ]
    },
    {
      "cell_type": "code",
      "source": [
        "rmsprop = keras.optimizers.RMSprop(learning_rate=1e-4)\n",
        "\n",
        "model4.compile(optimizer=rmsprop, loss='binary_crossentropy', metrics=['accuracy'])\n",
        "\n",
        "checkpoint_cb = keras.callbacks.ModelCheckpoint('best-gru-model.h5', save_best_only=True)\n",
        "early_stopping_cb = keras.callbacks.EarlyStopping(patience=3, restore_best_weights=True)\n",
        "\n",
        "history = model4.fit(train_seq, train_target, epochs=100, batch_size=64,\n",
        "                    validation_data=(val_seq, val_target),\n",
        "                    callbacks=[checkpoint_cb, early_stopping_cb])"
      ],
      "metadata": {
        "colab": {
          "base_uri": "https://localhost:8080/"
        },
        "id": "4eSUShq8_9Ve",
        "outputId": "c0c8cde5-feb6-47ce-a4f6-e6d800b69fbc"
      },
      "execution_count": null,
      "outputs": [
        {
          "output_type": "stream",
          "name": "stdout",
          "text": [
            "Epoch 1/100\n",
            "313/313 [==============================] - 9s 21ms/step - loss: 0.6927 - accuracy: 0.5185 - val_loss: 0.6923 - val_accuracy: 0.5542\n",
            "Epoch 2/100\n",
            " 16/313 [>.............................] - ETA: 2s - loss: 0.6917 - accuracy: 0.5898"
          ]
        },
        {
          "output_type": "stream",
          "name": "stderr",
          "text": [
            "/usr/local/lib/python3.10/dist-packages/keras/src/engine/training.py:3079: UserWarning: You are saving your model as an HDF5 file via `model.save()`. This file format is considered legacy. We recommend using instead the native Keras format, e.g. `model.save('my_model.keras')`.\n",
            "  saving_api.save_model(\n"
          ]
        },
        {
          "output_type": "stream",
          "name": "stdout",
          "text": [
            "313/313 [==============================] - 4s 12ms/step - loss: 0.6915 - accuracy: 0.5709 - val_loss: 0.6911 - val_accuracy: 0.5648\n",
            "Epoch 3/100\n",
            "313/313 [==============================] - 3s 8ms/step - loss: 0.6895 - accuracy: 0.5918 - val_loss: 0.6887 - val_accuracy: 0.5934\n",
            "Epoch 4/100\n",
            "313/313 [==============================] - 3s 9ms/step - loss: 0.6860 - accuracy: 0.6108 - val_loss: 0.6843 - val_accuracy: 0.6020\n",
            "Epoch 5/100\n",
            "313/313 [==============================] - 5s 17ms/step - loss: 0.6795 - accuracy: 0.6222 - val_loss: 0.6760 - val_accuracy: 0.6198\n",
            "Epoch 6/100\n",
            "313/313 [==============================] - 3s 10ms/step - loss: 0.6668 - accuracy: 0.6428 - val_loss: 0.6597 - val_accuracy: 0.6468\n",
            "Epoch 7/100\n",
            "313/313 [==============================] - 3s 8ms/step - loss: 0.6393 - accuracy: 0.6687 - val_loss: 0.6193 - val_accuracy: 0.6900\n",
            "Epoch 8/100\n",
            "313/313 [==============================] - 2s 8ms/step - loss: 0.5725 - accuracy: 0.7143 - val_loss: 0.5483 - val_accuracy: 0.7330\n",
            "Epoch 9/100\n",
            "313/313 [==============================] - 3s 11ms/step - loss: 0.5249 - accuracy: 0.7469 - val_loss: 0.5217 - val_accuracy: 0.7490\n",
            "Epoch 10/100\n",
            "313/313 [==============================] - 3s 10ms/step - loss: 0.5023 - accuracy: 0.7634 - val_loss: 0.5036 - val_accuracy: 0.7606\n",
            "Epoch 11/100\n",
            "313/313 [==============================] - 2s 8ms/step - loss: 0.4851 - accuracy: 0.7735 - val_loss: 0.4885 - val_accuracy: 0.7736\n",
            "Epoch 12/100\n",
            "313/313 [==============================] - 3s 8ms/step - loss: 0.4718 - accuracy: 0.7832 - val_loss: 0.4782 - val_accuracy: 0.7748\n",
            "Epoch 13/100\n",
            "313/313 [==============================] - 3s 8ms/step - loss: 0.4616 - accuracy: 0.7887 - val_loss: 0.4722 - val_accuracy: 0.7742\n",
            "Epoch 14/100\n",
            "313/313 [==============================] - 3s 9ms/step - loss: 0.4538 - accuracy: 0.7941 - val_loss: 0.4654 - val_accuracy: 0.7904\n",
            "Epoch 15/100\n",
            "313/313 [==============================] - 3s 11ms/step - loss: 0.4468 - accuracy: 0.7986 - val_loss: 0.4610 - val_accuracy: 0.7854\n",
            "Epoch 16/100\n",
            "313/313 [==============================] - 2s 8ms/step - loss: 0.4418 - accuracy: 0.8018 - val_loss: 0.4565 - val_accuracy: 0.7910\n",
            "Epoch 17/100\n",
            "313/313 [==============================] - 3s 8ms/step - loss: 0.4370 - accuracy: 0.8049 - val_loss: 0.4544 - val_accuracy: 0.7914\n",
            "Epoch 18/100\n",
            "313/313 [==============================] - 3s 8ms/step - loss: 0.4340 - accuracy: 0.8045 - val_loss: 0.4523 - val_accuracy: 0.7916\n",
            "Epoch 19/100\n",
            "313/313 [==============================] - 5s 16ms/step - loss: 0.4312 - accuracy: 0.8082 - val_loss: 0.4497 - val_accuracy: 0.7904\n",
            "Epoch 20/100\n",
            "313/313 [==============================] - 3s 10ms/step - loss: 0.4289 - accuracy: 0.8085 - val_loss: 0.4484 - val_accuracy: 0.7904\n",
            "Epoch 21/100\n",
            "313/313 [==============================] - 3s 8ms/step - loss: 0.4265 - accuracy: 0.8116 - val_loss: 0.4474 - val_accuracy: 0.7920\n",
            "Epoch 22/100\n",
            "313/313 [==============================] - 3s 8ms/step - loss: 0.4247 - accuracy: 0.8123 - val_loss: 0.4481 - val_accuracy: 0.7920\n",
            "Epoch 23/100\n",
            "313/313 [==============================] - 2s 8ms/step - loss: 0.4230 - accuracy: 0.8134 - val_loss: 0.4464 - val_accuracy: 0.7908\n",
            "Epoch 24/100\n",
            "313/313 [==============================] - 4s 13ms/step - loss: 0.4218 - accuracy: 0.8127 - val_loss: 0.4456 - val_accuracy: 0.7922\n",
            "Epoch 25/100\n",
            "313/313 [==============================] - 3s 8ms/step - loss: 0.4205 - accuracy: 0.8137 - val_loss: 0.4451 - val_accuracy: 0.7944\n",
            "Epoch 26/100\n",
            "313/313 [==============================] - 2s 8ms/step - loss: 0.4197 - accuracy: 0.8142 - val_loss: 0.4446 - val_accuracy: 0.7932\n",
            "Epoch 27/100\n",
            "313/313 [==============================] - 3s 10ms/step - loss: 0.4189 - accuracy: 0.8152 - val_loss: 0.4444 - val_accuracy: 0.7936\n",
            "Epoch 28/100\n",
            "313/313 [==============================] - 5s 17ms/step - loss: 0.4182 - accuracy: 0.8159 - val_loss: 0.4440 - val_accuracy: 0.7934\n",
            "Epoch 29/100\n",
            "313/313 [==============================] - 4s 13ms/step - loss: 0.4171 - accuracy: 0.8159 - val_loss: 0.4436 - val_accuracy: 0.7960\n",
            "Epoch 30/100\n",
            "313/313 [==============================] - 3s 10ms/step - loss: 0.4165 - accuracy: 0.8159 - val_loss: 0.4436 - val_accuracy: 0.7934\n",
            "Epoch 31/100\n",
            "313/313 [==============================] - 3s 10ms/step - loss: 0.4163 - accuracy: 0.8167 - val_loss: 0.4448 - val_accuracy: 0.7888\n",
            "Epoch 32/100\n",
            "313/313 [==============================] - 4s 12ms/step - loss: 0.4153 - accuracy: 0.8170 - val_loss: 0.4432 - val_accuracy: 0.7928\n",
            "Epoch 33/100\n",
            "313/313 [==============================] - 5s 16ms/step - loss: 0.4147 - accuracy: 0.8169 - val_loss: 0.4425 - val_accuracy: 0.7964\n",
            "Epoch 34/100\n",
            "313/313 [==============================] - 4s 14ms/step - loss: 0.4142 - accuracy: 0.8171 - val_loss: 0.4443 - val_accuracy: 0.7978\n",
            "Epoch 35/100\n",
            "313/313 [==============================] - 5s 14ms/step - loss: 0.4141 - accuracy: 0.8145 - val_loss: 0.4417 - val_accuracy: 0.7930\n",
            "Epoch 36/100\n",
            "313/313 [==============================] - 6s 19ms/step - loss: 0.4133 - accuracy: 0.8161 - val_loss: 0.4406 - val_accuracy: 0.7958\n",
            "Epoch 37/100\n",
            "313/313 [==============================] - 4s 13ms/step - loss: 0.4129 - accuracy: 0.8161 - val_loss: 0.4403 - val_accuracy: 0.7960\n",
            "Epoch 38/100\n",
            "313/313 [==============================] - 5s 14ms/step - loss: 0.4126 - accuracy: 0.8166 - val_loss: 0.4411 - val_accuracy: 0.7942\n",
            "Epoch 39/100\n",
            "313/313 [==============================] - 4s 14ms/step - loss: 0.4121 - accuracy: 0.8167 - val_loss: 0.4396 - val_accuracy: 0.7952\n",
            "Epoch 40/100\n",
            "313/313 [==============================] - 5s 15ms/step - loss: 0.4114 - accuracy: 0.8181 - val_loss: 0.4397 - val_accuracy: 0.7952\n",
            "Epoch 41/100\n",
            "313/313 [==============================] - 4s 14ms/step - loss: 0.4116 - accuracy: 0.8159 - val_loss: 0.4387 - val_accuracy: 0.7974\n",
            "Epoch 42/100\n",
            "313/313 [==============================] - 5s 15ms/step - loss: 0.4110 - accuracy: 0.8173 - val_loss: 0.4387 - val_accuracy: 0.7962\n",
            "Epoch 43/100\n",
            "313/313 [==============================] - 4s 14ms/step - loss: 0.4107 - accuracy: 0.8164 - val_loss: 0.4395 - val_accuracy: 0.7998\n",
            "Epoch 44/100\n",
            "313/313 [==============================] - 4s 13ms/step - loss: 0.4102 - accuracy: 0.8166 - val_loss: 0.4393 - val_accuracy: 0.7934\n"
          ]
        }
      ]
    },
    {
      "cell_type": "code",
      "source": [
        "plt.plot(history.history['loss'])\n",
        "plt.plot(history.history['val_loss'])\n",
        "plt.xlabel('epoch')\n",
        "plt.ylabel('loss')\n",
        "plt.legend(['train', 'val'])\n",
        "plt.show()"
      ],
      "metadata": {
        "colab": {
          "base_uri": "https://localhost:8080/",
          "height": 449
        },
        "id": "NjKLyi_0AS_r",
        "outputId": "862c3651-6cae-4973-f3c3-42f9d1fe4312"
      },
      "execution_count": null,
      "outputs": [
        {
          "output_type": "display_data",
          "data": {
            "text/plain": [
              "<Figure size 640x480 with 1 Axes>"
            ],
            "image/png": "[encoded data removed]"
          },
          "metadata": {}
        }
      ]
    },
    {
      "cell_type": "markdown",
      "source": [
        "## LSTM과 GRU 셀로 훈련"
      ],
      "metadata": {
        "id": "1JdOIo1SAn3k"
      }
    },
    {
      "cell_type": "code",
      "source": [
        "test_seq = pad_sequences(test_input, maxlen=100)\n",
        "rnn_model = keras.models.load_model('best-2rnn-model.h5')\n",
        "rnn_model.evaluate(test_seq, test_target)"
      ],
      "metadata": {
        "colab": {
          "base_uri": "https://localhost:8080/"
        },
        "id": "a97zoVeZArtW",
        "outputId": "efcee4e0-a3b2-4c7c-b690-40e591e0c569"
      },
      "execution_count": null,
      "outputs": [
        {
          "output_type": "stream",
          "name": "stdout",
          "text": [
            "782/782 [==============================] - 6s 7ms/step - loss: 0.4279 - accuracy: 0.7995\n"
          ]
        },
        {
          "output_type": "execute_result",
          "data": {
            "text/plain": [
              "[0.4278782308101654, 0.7994800209999084]"
            ]
          },
          "metadata": {},
          "execution_count": 18
        }
      ]
    }
  ]
}